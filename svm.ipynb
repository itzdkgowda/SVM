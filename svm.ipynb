{
 "cells": [
  {
   "cell_type": "code",
   "execution_count": 26,
   "id": "a7ad9b72-f56c-4964-8dc9-92a6c599b360",
   "metadata": {},
   "outputs": [
    {
     "name": "stdout",
     "output_type": "stream",
     "text": [
      "Accuracy: 0.9333333333333333\n",
      "Confusion Matrix:\n",
      " [[68  5]\n",
      " [ 3 44]]\n"
     ]
    }
   ],
   "source": [
    "import pandas as pd\n",
    "from sklearn.model_selection import train_test_split\n",
    "from sklearn.preprocessing import StandardScaler, LabelEncoder\n",
    "from sklearn.svm import SVC\n",
    "from sklearn.metrics import accuracy_score, confusion_matrix\n",
    "\n",
    "# Load data\n",
    "data = pd.read_csv('Desktop/AI/Social_Network_Ads.csv')\n",
    "\n",
    "# Encode the Gender column\n",
    "data['Gender'] = LabelEncoder().fit_transform(data['Gender']) # Male = 1, Female = 0\n",
    "\n",
    "# Define features and target variable\n",
    "X = data[['Gender', 'Age', 'EstimatedSalary']].values\n",
    "y = data['Purchased'].values\n",
    "\n",
    "# Split the dataset\n",
    "Xtrain, Xtest, ytrain, ytest = train_test_split(X, y, test_size=0.3, random_state=42)\n",
    "# Standardize the features\n",
    "\n",
    "scaler = StandardScaler()\n",
    "Xtrain = scaler.fit_transform(Xtrain)\n",
    "Xtest = scaler.transform(Xtest)\n",
    "\n",
    "# Train SVM classifier\n",
    "classifier = SVC(kernel='rbf', random_state=0)\n",
    "classifier.fit(Xtrain, ytrain)\n",
    "\n",
    "# Predict the results\n",
    "ypred = classifier.predict(Xtest)\n",
    "\n",
    "# Evaluate the model\n",
    "accuracy = accuracy_score(ytest, ypred)\n",
    "conf_matrix = confusion_matrix(ytest, ypred)\n",
    "print(\"Accuracy:\", accuracy)\n",
    "print(\"Confusion Matrix:\\n\", conf_matrix)"
   ]
  },
  {
   "cell_type": "code",
   "execution_count": null,
   "id": "77e7bf51-7370-4cc2-92b3-97376ed7af9c",
   "metadata": {},
   "outputs": [],
   "source": []
  }
 ],
 "metadata": {
  "kernelspec": {
   "display_name": "Python 3 (ipykernel)",
   "language": "python",
   "name": "python3"
  },
  "language_info": {
   "codemirror_mode": {
    "name": "ipython",
    "version": 3
   },
   "file_extension": ".py",
   "mimetype": "text/x-python",
   "name": "python",
   "nbconvert_exporter": "python",
   "pygments_lexer": "ipython3",
   "version": "3.11.7"
  }
 },
 "nbformat": 4,
 "nbformat_minor": 5
}
